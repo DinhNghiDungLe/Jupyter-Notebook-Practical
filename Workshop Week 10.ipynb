{
 "cells": [
  {
   "cell_type": "markdown",
   "metadata": {},
   "source": [
    "# Week 10 Practical Tasks\n",
    "## KNN Classifier and Naive Bayes Classifier"
   ]
  },
  {
   "cell_type": "markdown",
   "metadata": {},
   "source": [
    "### 1. Classifying Iris Species with KNN Classifier\n",
    "In this section, we will go through a simple machine learning application and create\n",
    "our first classification model. In the process, we will introduce some core concepts and terms.\n",
    "\n",
    "Let’s assume that a hobby botanist is interested in distinguishing the species of some\n",
    "iris flowers that she has found. She has collected some measurements associated with\n",
    "each iris: the length and width of the petals and the length and width of the sepals, all\n",
    "measured in centimeters.\n",
    "\n",
    "She also has the measurements of some irises that have been previously identified by\n",
    "an expert botanist as belonging to the species setosa, versicolor, or virginica. For these\n",
    "measurements, she can be certain of which species each iris belongs to. Let’s assume\n",
    "that these are the only species our hobby botanist will encounter in the wild.\n",
    "\n",
    "Our goal is to build a machine learning model that can learn from the measurements\n",
    "of these irises whose species is known, so that we can predict the species for a new\n",
    "iris.\n",
    "\n",
    "Reference: Introduction to Machine learning with Python"
   ]
  },
  {
   "cell_type": "markdown",
   "metadata": {},
   "source": [
    "* ### Import Data\n",
    "\n",
    "The sklearn package provides some built-in real-world data sets to let users experience working on a real-world data analysis applications. The Iris data set is one of them. Please refer to https://scikit-learn.org/stable/datasets/index.html for more information about these built-in data sets."
   ]
  },
  {
   "cell_type": "code",
   "execution_count": 1,
   "metadata": {},
   "outputs": [
    {
     "name": "stdout",
     "output_type": "stream",
     "text": [
      "Feature names: \n",
      " ['sepal length (cm)', 'sepal width (cm)', 'petal length (cm)', 'petal width (cm)']\n",
      "Target names: \n",
      " ['setosa' 'versicolor' 'virginica']\n",
      "Feature data size: \n",
      " (150, 4)\n",
      "Target data size: \n",
      " (150,)\n",
      "Target values: \n",
      " [0 0 0 0 0 0 0 0 0 0 0 0 0 0 0 0 0 0 0 0 0 0 0 0 0 0 0 0 0 0 0 0 0 0 0 0 0\n",
      " 0 0 0 0 0 0 0 0 0 0 0 0 0 1 1 1 1 1 1 1 1 1 1 1 1 1 1 1 1 1 1 1 1 1 1 1 1\n",
      " 1 1 1 1 1 1 1 1 1 1 1 1 1 1 1 1 1 1 1 1 1 1 1 1 1 1 2 2 2 2 2 2 2 2 2 2 2\n",
      " 2 2 2 2 2 2 2 2 2 2 2 2 2 2 2 2 2 2 2 2 2 2 2 2 2 2 2 2 2 2 2 2 2 2 2 2 2\n",
      " 2 2]\n"
     ]
    }
   ],
   "source": [
    "import numpy as np\n",
    "float_formatter = \"{:.6f}\".format\n",
    "np.set_printoptions(formatter={'float_kind':float_formatter})\n",
    "\n",
    "from sklearn import datasets\n",
    "\n",
    "iris_data = datasets.load_iris()\n",
    "\n",
    "print(\"Feature names: \\n\", iris_data.feature_names)\n",
    "print(\"Target names: \\n\", iris_data.target_names)\n",
    "\n",
    "print(\"Feature data size: \\n\", iris_data.data.shape)\n",
    "print(\"Target data size: \\n\", iris_data.target.shape)\n",
    "print(\"Target values: \\n\", iris_data.target)"
   ]
  },
  {
   "cell_type": "code",
   "execution_count": null,
   "metadata": {},
   "outputs": [],
   "source": []
  },
  {
   "cell_type": "markdown",
   "metadata": {},
   "source": [
    "* ### Training and Testing Data\n",
    "\n",
    "We want to build a machine learning model from this data that can predict the species\n",
    "of iris for a new set of measurements. But before we can apply our model to new\n",
    "measurements, we need to know whether it actually works—that is, whether we\n",
    "should trust its predictions.\n",
    "\n",
    "To assess the model’s performance, we show it new data (data that it hasn’t seen\n",
    "before) for which we have labels. This is usually done by splitting the labeled data we\n",
    "have collected (here, our 150 flower measurements) into two parts. One part of the\n",
    "data is used to build our machine learning model, and is called the training data or\n",
    "training set. The rest of the data will be used to assess how well the model works; this\n",
    "is called the test data, test set, or hold-out set.\n",
    "\n",
    "scikit-learn contains a function that shuffles the dataset and splits it for you: the\n",
    "[train_test_split](https://scikit-learn.org/stable/modules/generated/sklearn.model_selection.train_test_split.html#sklearn.model_selection.train_test_split) function. As default, this function extracts 75% of the rows in the data as the\n",
    "training set, together with the corresponding labels for this data. The remaining 25%\n",
    "of the data, together with the remaining labels, is declared as the test set. Deciding\n",
    "how much data you want to put into the training and the test set respectively is somewhat\n",
    "arbitrary, but using a test set containing 25% of the data is a good rule of thumb.\n",
    "\n",
    "In scikit-learn, data is usually denoted with a capital X, while labels are denoted by\n",
    "a lowercase y. This is inspired by the standard formulation f(x)=y in mathematics,\n",
    "where x is the input to a function and y is the output. Following more conventions\n",
    "from mathematics, we use a capital X because the data is a two-dimensional array (a\n",
    "matrix) and a lowercase y because the target is a one-dimensional array (a vector).\n",
    "Let’s call train_test_split on our data and assign the outputs using this nomenclature:"
   ]
  },
  {
   "cell_type": "code",
   "execution_count": 2,
   "metadata": {},
   "outputs": [],
   "source": [
    "from sklearn.model_selection import train_test_split"
   ]
  },
  {
   "cell_type": "markdown",
   "metadata": {},
   "source": [
    "Before making the split, the train_test_split function shuffles the dataset using a\n",
    "pseudorandom number generator. If we just took the last 25% of the data as a test set,\n",
    "all the data points would have the label 2, as the data points are sorted by the label\n",
    "(see the output for iris['target'] shown earlier). Using a test set containing only\n",
    "one of the three classes would not tell us much about how well our model generalizes. This will result in situation that the training data and testing data have different distributions.\n",
    "So, we shuffle our data to make sure the test data contains data from all classes.\n",
    "\n",
    "To make sure that we will get the same output if we run the same function several\n",
    "times, we provide the pseudorandom number generator with a fixed seed using the\n",
    "random_state parameter. This will make the outcome deterministic, so this line will\n",
    "always have the same outcome. We will always fix the random_state in this way when\n",
    "using randomized procedures.\n",
    "\n",
    "The output of the train_test_split function is X_train, X_test, y_train, and\n",
    "y_test, which are all NumPy arrays. X_train contains 75% of the rows of the dataset,\n",
    "and X_test contains the remaining 25%:"
   ]
  },
  {
   "cell_type": "code",
   "execution_count": 3,
   "metadata": {},
   "outputs": [
    {
     "name": "stdout",
     "output_type": "stream",
     "text": [
      "X_train shape: (112, 4)\n",
      "y_train shape: (112,)\n",
      "X_test shape: (38, 4)\n",
      "y_test shape: (38,)\n"
     ]
    }
   ],
   "source": [
    "X_train, X_test, y_train, y_test = train_test_split(iris_data.data, iris_data.target, random_state=142)\n",
    "\n",
    "print(\"X_train shape: {}\".format(X_train.shape))\n",
    "print(\"y_train shape: {}\".format(y_train.shape))\n",
    "print(\"X_test shape: {}\".format(X_test.shape))\n",
    "print(\"y_test shape: {}\".format(y_test.shape))"
   ]
  },
  {
   "cell_type": "markdown",
   "metadata": {},
   "source": [
    "* ### K-Nearest Neighbours Classifier\n",
    "\n",
    "Now we can start building the actual machine learning model. There are many classification\n",
    "algorithms in scikit-learn that we could use. Here we will use a k-nearest\n",
    "neighbors classifier, which is easy to understand. Building this model only consists of\n",
    "storing the training set. To make a prediction for a new data point, the algorithm\n",
    "finds the point in the training set that is closest to the new point. Then it assigns the\n",
    "label of this training point to the new data point.\n",
    "\n",
    "All machine learning models in scikit-learn are implemented in their own classes,\n",
    "which are called Estimator classes. The k-nearest neighbors classification algorithm\n",
    "is implemented in the [KNeighborsClassifier](https://scikit-learn.org/stable/modules/generated/sklearn.neighbors.KNeighborsClassifier.html#sklearn.neighbors.KNeighborsClassifier) class in the neighbors module. Before\n",
    "we can use the model, we need to instantiate the class into an object. This is when we\n",
    "will set any parameters of the model. The most important parameter of KNeighbors\n",
    "Classifier is the number of neighbors (i.e., $K$), which we will set to 1 for our first exploration.\n",
    "\n",
    "**Model Training**: To build the model on the training set, we call the 'fit' method of the knn object,\n",
    "which takes as arguments the NumPy array X_train containing the training data and\n",
    "the NumPy array y_train of the corresponding training labels."
   ]
  },
  {
   "cell_type": "code",
   "execution_count": 4,
   "metadata": {},
   "outputs": [
    {
     "data": {
      "text/plain": [
       "KNeighborsClassifier(n_neighbors=1)"
      ]
     },
     "execution_count": 4,
     "metadata": {},
     "output_type": "execute_result"
    }
   ],
   "source": [
    "# Import the KNN classifier\n",
    "from sklearn.neighbors import KNeighborsClassifier\n",
    "\n",
    "# Build a KNN classifier model\n",
    "clf_knn = KNeighborsClassifier(n_neighbors=1)\n",
    "\n",
    "# Train the model with the training data\n",
    "clf_knn.fit(X_train, y_train)"
   ]
  },
  {
   "cell_type": "markdown",
   "metadata": {},
   "source": [
    "**Prediction**: We can now make predictions using this model on new data for which we might not\n",
    "know the correct labels. Imagine we found an iris in the wild with a sepal length of\n",
    "5 cm, a sepal width of 2.9 cm, a petal length of 1 cm, and a petal width of 0.2 cm.\n",
    "What species of iris would this be? We can put this data into a NumPy array, again by\n",
    "calculating the shape—that is, the number of samples (1) multiplied by the number of\n",
    "features (4):"
   ]
  },
  {
   "cell_type": "code",
   "execution_count": 5,
   "metadata": {},
   "outputs": [
    {
     "name": "stdout",
     "output_type": "stream",
     "text": [
      "X_new.shape: (1, 4)\n",
      "The predicted class is: \n",
      " [0]\n"
     ]
    }
   ],
   "source": [
    "# Produce the features of a testing data instance\n",
    "X_new = np.array([[5, 2.9, 1, 0.2]])\n",
    "print(\"X_new.shape: {}\".format(X_new.shape))\n",
    "\n",
    "# Predict the result label of X_new:\n",
    "y_new_pred = clf_knn.predict(X_new)\n",
    "print(\"The predicted class is: \\n\", y_new_pred)"
   ]
  },
  {
   "cell_type": "markdown",
   "metadata": {},
   "source": [
    "Our model predicts that this new iris belongs to the class 0, meaning its species is setosa. But how do we know whether we can trust our model? We don’t know the correct species of this sample, which is the whole point of building the model!"
   ]
  },
  {
   "cell_type": "markdown",
   "metadata": {},
   "source": [
    "**Evaluating Model**: This is where the test set that we created earlier comes in. This data was not used to build the model, but we do know what the correct species is for each iris in the test set. So, we can use the trained model to predict these data instances and calculate the accuracy to evaluate how good the model is."
   ]
  },
  {
   "cell_type": "markdown",
   "metadata": {},
   "source": [
    "## Task 1 \n",
    "Write code to calculate the accuracy score"
   ]
  },
  {
   "cell_type": "code",
   "execution_count": 6,
   "metadata": {},
   "outputs": [],
   "source": [
    "# [Your code here ...]\n",
    "from sklearn.metrics import accuracy_score"
   ]
  },
  {
   "cell_type": "code",
   "execution_count": 7,
   "metadata": {},
   "outputs": [
    {
     "name": "stdout",
     "output_type": "stream",
     "text": [
      "Accuracy: 0.8947368421052632\n"
     ]
    }
   ],
   "source": [
    "y_pred=clf_knn.predict(X_test)\n",
    "accuracy=accuracy_score(y_test, y_pred)\n",
    "print(\"Accuracy:\", accuracy)"
   ]
  },
  {
   "cell_type": "markdown",
   "metadata": {},
   "source": [
    "* ### Parameter Tuning with Cross Validation (CV)\n",
    "\n",
    "In this section, we’ll explore a CV method that can be used to tune the hyperparameter $K$ using the above training and test data.\n",
    "\n",
    "Scikit-learn comes in handy with its [cross_val_score](https://scikit-learn.org/stable/modules/generated/sklearn.model_selection.cross_val_score.html#sklearn.model_selection.cross_val_score) method. We specifiy that we are performing 10 folds with the cv=KFold(n_splits=10, shuffle=True) parameter and that our scoring metric should be accuracy since we are in a classification setting. In each iteration, the training data take 90% of the total data while testing data takes 10%. The average on the accuracies reported from each iteration will make the testing accuracy more robust than just a single split of the data.\n",
    "\n",
    "**Manual tuning with cross validation**: Plot the misclassification error versus $K$. You need to figure out the possible values of $K$. If the number of possible values is too big, you can take some values with a certain step, e.g., $K$ = 1, 5, 10, ... with a step of 5. "
   ]
  },
  {
   "cell_type": "code",
   "execution_count": 8,
   "metadata": {
    "scrolled": true
   },
   "outputs": [
    {
     "name": "stdout",
     "output_type": "stream",
     "text": [
      "[1.000000 0.866667 0.933333 0.866667 0.866667 1.000000 1.000000 1.000000\n",
      " 1.000000 1.000000]\n",
      "[0.933333 0.933333 1.000000 0.933333 1.000000 1.000000 0.933333 1.000000\n",
      " 0.933333 0.933333]\n",
      "[1.000000 0.933333 1.000000 1.000000 1.000000 1.000000 0.933333 0.800000\n",
      " 1.000000 1.000000]\n",
      "[1.000000 0.933333 1.000000 0.933333 1.000000 0.933333 1.000000 0.933333\n",
      " 1.000000 1.000000]\n",
      "[0.933333 1.000000 0.933333 1.000000 0.866667 0.866667 1.000000 1.000000\n",
      " 1.000000 1.000000]\n",
      "[0.866667 0.933333 0.933333 0.933333 1.000000 0.933333 0.866667 1.000000\n",
      " 0.933333 1.000000]\n",
      "[0.933333 0.933333 1.000000 0.933333 1.000000 0.933333 0.933333 1.000000\n",
      " 1.000000 0.866667]\n",
      "[1.000000 0.800000 1.000000 0.866667 0.866667 0.866667 1.000000 1.000000\n",
      " 1.000000 1.000000]\n",
      "[0.933333 1.000000 1.000000 1.000000 0.933333 0.800000 1.000000 0.933333\n",
      " 0.933333 0.933333]\n",
      "[1.000000 0.933333 0.933333 0.800000 1.000000 1.000000 0.866667 1.000000\n",
      " 0.933333 0.933333]\n",
      "[1.000000 0.933333 0.933333 0.933333 1.000000 1.000000 0.866667 0.866667\n",
      " 1.000000 1.000000]\n",
      "[0.933333 0.733333 0.866667 0.933333 0.933333 0.933333 1.000000 0.933333\n",
      " 0.933333 0.866667]\n",
      "[0.866667 0.866667 1.000000 1.000000 0.933333 0.866667 0.800000 0.866667\n",
      " 1.000000 0.933333]\n",
      "[0.933333 0.733333 1.000000 0.866667 0.866667 0.666667 0.866667 1.000000\n",
      " 0.866667 1.000000]\n",
      "[0.666667 0.866667 0.866667 1.000000 0.800000 0.933333 0.933333 0.933333\n",
      " 0.933333 0.933333]\n",
      "[0.866667 0.933333 0.800000 0.866667 0.866667 0.933333 0.933333 0.733333\n",
      " 1.000000 0.800000]\n",
      "[0.933333 0.866667 0.866667 0.933333 0.933333 0.333333 0.933333 0.933333\n",
      " 0.866667 0.933333]\n",
      "[1.000000 1.000000 0.866667 0.800000 0.933333 0.533333 0.533333 0.533333\n",
      " 0.866667 0.733333]\n",
      "[0.600000 0.133333 0.533333 0.733333 0.933333 0.666667 0.533333 0.533333\n",
      " 0.866667 0.666667]\n",
      "[0.666667 0.133333 0.400000 0.533333 0.400000 0.866667 0.600000 0.533333\n",
      " 0.666667 0.933333]\n",
      "[0.600000 0.466667 0.733333 0.466667 0.266667 0.133333 0.533333 0.533333\n",
      " 0.666667 0.133333]\n",
      "[0.200000 0.533333 0.266667 0.666667 0.200000 0.400000 0.466667 0.266667\n",
      " 0.466667 0.600000]\n",
      "[0.200000 0.266667 0.600000 0.533333 0.266667 0.333333 0.733333 0.466667\n",
      " 0.800000 0.533333]\n",
      "[0.466667 0.600000 0.200000 0.400000 0.800000 0.133333 0.533333 0.333333\n",
      " 0.666667 0.733333]\n",
      "[0.466667 0.400000 0.266667 0.400000 0.600000 0.800000 0.600000 0.200000\n",
      " 0.600000 0.266667]\n",
      "[0.533333 0.266667 0.200000 0.466667 0.200000 0.533333 0.666667 0.133333\n",
      " 0.333333 0.266667]\n",
      "[0.200000 0.400000 0.533333 0.533333 0.200000 0.533333 0.266667 0.200000\n",
      " 0.066667 0.600000]\n",
      "[0.9533333333333334, 0.96, 0.9666666666666668, 0.9733333333333334, 0.96, 0.9400000000000001, 0.9533333333333334, 0.9400000000000001, 0.9466666666666667, 0.9400000000000001, 0.9533333333333334, 0.9066666666666666, 0.9133333333333333, 0.8800000000000001, 0.8866666666666667, 0.8733333333333334, 0.8533333333333333, 0.78, 0.62, 0.5733333333333334, 0.4533333333333334, 0.4066666666666666, 0.47333333333333333, 0.4866666666666667, 0.45999999999999996, 0.36, 0.3533333333333334]\n",
      "[0.059999999999999984, 0.03265986323710904, 0.061463629715285906, 0.03265986323710904, 0.05333333333333332, 0.046666666666666655, 0.04268749491621898, 0.07571877794400363, 0.0581186525805423, 0.06289320754704401, 0.052068331172711015, 0.0679869268479038, 0.06699917080747259, 0.10666666666666667, 0.08969082698049141, 0.07571877794400365, 0.17587874611030563, 0.17900962109463403, 0.20880613017821104, 0.22150996967781533, 0.19955506062794354, 0.15902480589168752, 0.19425069712444618, 0.210923893594085, 0.18, 0.16918103387266029, 0.17900962109463403]\n"
     ]
    },
    {
     "data": {
      "image/png": "[encoded data removed]",
      "text/plain": [
       "<Figure size 432x288 with 1 Axes>"
      ]
     },
     "metadata": {
      "needs_background": "light"
     },
     "output_type": "display_data"
    }
   ],
   "source": [
    "from sklearn.model_selection import cross_val_score, KFold\n",
    "import matplotlib.pyplot as plt\n",
    "\n",
    "cv_scores = []\n",
    "cv_scores_std = []\n",
    "k_range = range(1, 135, 5)\n",
    "for i in k_range:\n",
    "    clf = KNeighborsClassifier(n_neighbors = i)\n",
    "    scores = cross_val_score(clf, iris_data.data, iris_data.target, scoring='accuracy', cv=KFold(n_splits=10, shuffle=True))\n",
    "    print(scores)\n",
    "    cv_scores.append(scores.mean())\n",
    "    cv_scores_std.append(scores.std())\n",
    "\n",
    "# Plot the relationship\n",
    "print(cv_scores)\n",
    "print(cv_scores_std)\n",
    "plt.errorbar(k_range, cv_scores, yerr=cv_scores_std, marker='x', label='Accuracy')\n",
    "plt.ylim([0.1, 1.1])\n",
    "plt.xlabel('$K$')\n",
    "plt.ylabel('Accuracy')\n",
    "plt.legend(loc='best')\n",
    "plt.show()"
   ]
  },
  {
   "cell_type": "code",
   "execution_count": 9,
   "metadata": {},
   "outputs": [
    {
     "name": "stdout",
     "output_type": "stream",
     "text": [
      "0 0.9533333333333334\n",
      "1 0.96\n",
      "2 0.9666666666666668\n",
      "3 0.9733333333333334\n",
      "4 0.96\n",
      "5 0.9400000000000001\n",
      "6 0.9533333333333334\n",
      "7 0.9400000000000001\n",
      "8 0.9466666666666667\n",
      "9 0.9400000000000001\n",
      "10 0.9533333333333334\n",
      "11 0.9066666666666666\n",
      "12 0.9133333333333333\n",
      "13 0.8800000000000001\n",
      "14 0.8866666666666667\n",
      "15 0.8733333333333334\n",
      "16 0.8533333333333333\n",
      "17 0.78\n",
      "18 0.62\n",
      "19 0.5733333333333334\n",
      "20 0.4533333333333334\n",
      "21 0.4066666666666666\n",
      "22 0.47333333333333333\n",
      "23 0.4866666666666667\n",
      "24 0.45999999999999996\n",
      "25 0.36\n",
      "26 0.3533333333333334\n"
     ]
    }
   ],
   "source": [
    "for i in range(len(cv_scores)):\n",
    "    print(i, cv_scores[i])"
   ]
  },
  {
   "cell_type": "markdown",
   "metadata": {},
   "source": [
    "It can be seen that the accuracy first goes up when $K$ increases. It peeks around 15. Then, it keeps going down. Particularly, the performance (measured by the score mean) and its robustness/stableness (measured by the score std) drop substantially around K=85. One possible reason is that when K is bigger than 85, the model suffers from the underfitting issue severely. "
   ]
  },
  {
   "cell_type": "markdown",
   "metadata": {},
   "source": [
    "**Automated Parameter Tuning**: Use the [GridSearchCV](https://scikit-learn.org/stable/modules/generated/sklearn.model_selection.GridSearchCV.html#sklearn.model_selection.GridSearchCV) method to accomplish automatic model selection. "
   ]
  },
  {
   "cell_type": "markdown",
   "metadata": {},
   "source": [
    "## Task 2\n",
    "Check against the figure plotted above to see if the selected hyperparameter $K$ can lead to the highest misclassification accuracy. "
   ]
  },
  {
   "cell_type": "code",
   "execution_count": 10,
   "metadata": {},
   "outputs": [
    {
     "name": "stdout",
     "output_type": "stream",
     "text": [
      "Best K:  11\n",
      "Accuracy:  0.9733333333333334\n"
     ]
    }
   ],
   "source": [
    "# [Your code here ...]\n",
    "from sklearn.model_selection import GridSearchCV\n",
    "parameter_grid={'n_neighbors': range(1, 135, 5)}\n",
    "knn_clf=KNeighborsClassifier()\n",
    "gs_knn=GridSearchCV(knn_clf, parameter_grid, scoring='accuracy', cv=KFold(n_splits=10, shuffle=True, random_state=42))\n",
    "gs_knn.fit(iris_data.data, iris_data.target)\n",
    "print('Best K: ', gs_knn.best_params_['n_neighbors'])\n",
    "print('Accuracy: ', gs_knn.best_score_)"
   ]
  },
  {
   "cell_type": "markdown",
   "metadata": {},
   "source": [
    "## Task 3\n",
    "It can be seen that GridSearchCV can help us to the automated hyperparameter tuning. Actually, it also store the intermediate results during the search procrss. The attribute 'cv_results_' of GridSearchCV contains much such informaiton. For example, this attribute contains the 'mean_test_score' and 'std_test_score' for the cross validation. Make use of this information to produce a plot similar to what we did in the manual way. Please check if the two plots comply with each other."
   ]
  },
  {
   "cell_type": "code",
   "execution_count": 11,
   "metadata": {},
   "outputs": [
    {
     "data": {
      "image/png": "[encoded data removed]",
      "text/plain": [
       "<Figure size 432x288 with 1 Axes>"
      ]
     },
     "metadata": {
      "needs_background": "light"
     },
     "output_type": "display_data"
    }
   ],
   "source": [
    "# [Your code here ...]\n",
    "cv_score_means=gs_knn.cv_results_['mean_test_score']\n",
    "cv_score_stds=gs_knn.cv_results_['std_test_score']\n",
    "\n",
    "plt.errorbar(k_range, cv_score_means, yerr=cv_score_stds, marker='o', label='Accuracy')\n",
    "plt.ylim([0.1, 1.1])\n",
    "plt.xlabel('$K$')\n",
    "plt.ylabel('Accuracy')\n",
    "plt.legend(loc='best')\n",
    "plt.show()"
   ]
  },
  {
   "cell_type": "markdown",
   "metadata": {},
   "source": [
    "### 2. Naive Bayes Classifier\n",
    "Naive Bayes methods are a set of supervised learning algorithms based on applying Bayes' theorem with the \"naive\" assumption of conditional independence between every pair of features given the value of the class variable. Bayes'theorem states the following relationship, given class variable $y$ and dependent feature vector $x_1$ through $x_n$,:\n",
    "\n",
    "$$P(y \\mid x_1, \\dots, x_n) = \\frac{P(y) P(x_1, \\dots x_n \\mid y)}\n",
    "                                 {P(x_1, \\dots, x_n)}$$\n",
    "\n",
    "Using the naive conditional independence assumption, we have\n",
    "\n",
    "$$\\begin{align}\\begin{aligned}P(y \\mid x_1, \\dots, x_n) \\propto P(y) \\prod_{i=1}^{n} P(x_i \\mid y)\\\\\\Downarrow\\\\\\hat{y} = \\arg\\max_y P(y) \\prod_{i=1}^{n} P(x_i \\mid y),\\end{aligned}\\end{align}$$\n",
    "\n",
    "Then, we can use Maximum A Posteriori (MAP) estimation to estimate $P(y)$ and $P(x_i \\mid y)$; the former is then the relative frequency of class $y$ in the training set.\n",
    "\n",
    "*References*:\n",
    "H. Zhang (2004). The optimality of Naive Bayes. Proc. FLAIRS."
   ]
  },
  {
   "cell_type": "markdown",
   "metadata": {},
   "source": [
    "* ### Gaussian Naive Bayes\n",
    "\n",
    "[GaussianNB](https://scikit-learn.org/stable/modules/generated/sklearn.naive_bayes.GaussianNB.html#sklearn.naive_bayes.GaussianNB) implements the Gaussian Naive Bayes algorithm for classification on the data sets where features are continuous.   \n",
    "The likelihood of the features is assumed to be Gaussian:\n",
    "\n",
    "$$P(x_i \\mid y) = \\frac{1}{\\sqrt{2\\pi\\sigma^2_y}} \\exp\\left(-\\frac{(x_i - \\mu_y)^2}{2\\sigma^2_y}\\right)$$\n",
    "\n",
    "The parameters $\\sigma_y$ and $\\mu_y$  are estimated using maximum likelihood."
   ]
  },
  {
   "cell_type": "markdown",
   "metadata": {},
   "source": [
    "**Demo**: In this demo, we show how to build a Gaussian Naive Bayes classifier."
   ]
  },
  {
   "cell_type": "code",
   "execution_count": 12,
   "metadata": {},
   "outputs": [],
   "source": [
    "import pandas as pd\n",
    "from sklearn.datasets import make_classification\n",
    "from sklearn.naive_bayes import GaussianNB\n",
    "import warnings\n",
    "warnings.filterwarnings(\"ignore\")"
   ]
  },
  {
   "cell_type": "code",
   "execution_count": 13,
   "metadata": {},
   "outputs": [
    {
     "data": {
      "image/png": "[encoded data removed]",
      "text/plain": [
       "<Figure size 432x288 with 1 Axes>"
      ]
     },
     "metadata": {
      "needs_background": "light"
     },
     "output_type": "display_data"
    }
   ],
   "source": [
    "# Generate a synthetica 2D dataset\n",
    "X, y = make_classification(n_samples=50, n_features=2, n_informative=2,\n",
    "                           n_redundant=0, n_classes=3, n_clusters_per_class=1, \n",
    "                           weights=None, flip_y=0.01, class_sep=0.5, hypercube=True,\n",
    "                           shift=0.0, scale=1.0, shuffle=True, random_state=42)\n",
    "\n",
    "# Data split\n",
    "X_train, X_test, y_train, y_test = train_test_split(X, y, test_size=.2, random_state=42)\n",
    "\n",
    "# Visualize the generated data\n",
    "colors = ['blue', 'yellow', 'green']\n",
    "for i, color in enumerate(colors):\n",
    "    plt.scatter(X_train[y_train == i, 0], X_train[y_train == i, 1], c=color)\n",
    "plt.scatter(X_test[:, 0], X_test[:,1], c='red', marker='x', label='Testing Data')\n",
    "plt.legend(loc='best')\n",
    "plt.show()"
   ]
  },
  {
   "cell_type": "code",
   "execution_count": 14,
   "metadata": {},
   "outputs": [
    {
     "name": "stdout",
     "output_type": "stream",
     "text": [
      "Testing accuracy is: 0.8000\n",
      "\n"
     ]
    }
   ],
   "source": [
    "# Create and training a Gaussian Naive Bayes classifier model\n",
    "clf = GaussianNB()\n",
    "clf.fit(X_train, y_train)\n",
    "\n",
    "# Use the model to predict testing data\n",
    "y_pred = clf.predict(X_test)\n",
    "accuracy = accuracy_score(y_pred, y_test)\n",
    "print('Testing accuracy is: %.4f\\n' % accuracy)"
   ]
  },
  {
   "cell_type": "code",
   "execution_count": 15,
   "metadata": {},
   "outputs": [
    {
     "name": "stdout",
     "output_type": "stream",
     "text": [
      "Estimated probability of classess: \n",
      " [0.325000 0.375000 0.300000]\n",
      "Estimated mean for each Gaussian distribution: \n",
      " [[0.609039 -0.561157]\n",
      " [0.396703 0.513019]\n",
      " [-0.401613 -0.836859]]\n",
      "Estimated variance for each Gaussian distribution: \n",
      " [[0.232339 1.048391]\n",
      " [0.935212 0.066276]\n",
      " [0.330985 0.675591]]\n"
     ]
    }
   ],
   "source": [
    "# Explore the learned probability (model parameters)\n",
    "print('Estimated probability of classess: \\n', clf.class_prior_)\n",
    "print('Estimated mean for each Gaussian distribution: \\n', clf.theta_)\n",
    "print('Estimated variance for each Gaussian distribution: \\n', clf.sigma_)"
   ]
  },
  {
   "cell_type": "markdown",
   "metadata": {},
   "source": [
    "For example, for Class 0 and the first feature, we can have the following Gaussian disribution\n",
    "$$P(x_0 \\mid Class=0) = \\frac{1}{\\sqrt{2\\pi\\cdot0.2323}} \\exp\\left(-\\frac{(x_0 - 0.6090)^2}{2\\cdot0.2323}\\right)$$"
   ]
  },
  {
   "cell_type": "code",
   "execution_count": 16,
   "metadata": {},
   "outputs": [
    {
     "name": "stdout",
     "output_type": "stream",
     "text": [
      "Gaussian Naive Bayes accuracy range: [0.4000, 1.0000]; mean: 0.7000; std: 0.1612\n",
      "\n"
     ]
    }
   ],
   "source": [
    "# Use 10-fold cross validation to show a more robust prediction accuracy\n",
    "clf = GaussianNB()\n",
    "scores = cross_val_score(clf, X, y, scoring='accuracy', cv=10)\n",
    "print('Gaussian Naive Bayes accuracy range: [%.4f, %.4f]; mean: %.4f; std: %.4f\\n' % (scores.min(), scores.max(), scores.mean(), scores.std()))"
   ]
  },
  {
   "cell_type": "markdown",
   "metadata": {},
   "source": [
    "## Task 4\n",
    "Given the training data generated as follows:"
   ]
  },
  {
   "cell_type": "code",
   "execution_count": 17,
   "metadata": {},
   "outputs": [
    {
     "name": "stdout",
     "output_type": "stream",
     "text": [
      "Means estaimated manually: \n",
      " [[-2.     -1.3333]\n",
      " [ 2.      1.3333]]\n",
      "Variances estaimated manually: \n",
      " [[0.6667 0.2222]\n",
      " [0.6667 0.2222]]\n"
     ]
    }
   ],
   "source": [
    "X = np.array([[-1, -1], [-2, -1], [-3, -2], [1, 1], [2, 1], [3, 2]])\n",
    "y = np.array([1, 1, 1, 2, 2, 2])\n",
    "\n",
    "# Firstly, let's do the parameter estimation manually without using the model\n",
    "X_0_C_1=X[y==1][:,0]\n",
    "X_1_C_1=X[y==1][:,1]\n",
    "X_0_C_2=X[y==2][:,0]\n",
    "X_1_C_2=X[y==2][:,1]\n",
    "\n",
    "manual_means = np.array([[X_0_C_1.mean(), X_1_C_1.mean()], [X_0_C_2.mean(), X_1_C_2.mean()]])\n",
    "np.set_printoptions(precision=4)\n",
    "print('Means estaimated manually: \\n', manual_means)\n",
    "manual_vars = np.array([[X_0_C_1.var(), X_1_C_1.var()], [X_0_C_2.var(), X_1_C_2.var()]])\n",
    "print('Variances estaimated manually: \\n', manual_vars)"
   ]
  },
  {
   "cell_type": "markdown",
   "metadata": {},
   "source": [
    " Train a GaussianNB model and print out the learned model parameters (parameters of probability distributions). And check if the learned parameters comply with the manually estimated ones as shown above. Predict the label of a data [-0.8,-1]."
   ]
  },
  {
   "cell_type": "code",
   "execution_count": 18,
   "metadata": {},
   "outputs": [
    {
     "name": "stdout",
     "output_type": "stream",
     "text": [
      "[[-2.     -1.3333]\n",
      " [ 2.      1.3333]] [[0.6667 0.2222]\n",
      " [0.6667 0.2222]]\n"
     ]
    }
   ],
   "source": [
    "# [Your code here ...]\n",
    "clf=GaussianNB()\n",
    "clf.fit(X,y)\n",
    "print(clf.theta_, clf.sigma_)"
   ]
  },
  {
   "cell_type": "code",
   "execution_count": null,
   "metadata": {},
   "outputs": [],
   "source": []
  },
  {
   "cell_type": "markdown",
   "metadata": {},
   "source": [
    "* ### Multinomial Naive Bayes\n",
    "The [MultinomialNB](https://scikit-learn.org/stable/modules/generated/sklearn.naive_bayes.MultinomialNB.html#sklearn.naive_bayes.MultinomialNB) classification model is suitable for classification with discrete features. To let the model handle to categorical data, we often need to transform the categorical values to numberic ones, through [encoding](https://scikit-learn.org/stable/modules/preprocessing.html#encoding-categorical-features) methods."
   ]
  },
  {
   "cell_type": "code",
   "execution_count": 19,
   "metadata": {},
   "outputs": [
    {
     "name": "stdout",
     "output_type": "stream",
     "text": [
      "    Outlook Humidity    Wind Play\n",
      "0     Sunny     High    Weak   No\n",
      "1     Sunny     High  Strong   No\n",
      "2  Overcast     High    Weak  Yes\n",
      "3      Rain     High    Weak  Yes\n",
      "4      Rain   Normal    Weak  Yes\n",
      "\n",
      "Data shape:  (14, 4)\n"
     ]
    }
   ],
   "source": [
    "# Load the weather data\n",
    "weather_data = pd.read_csv('files/weather.csv')\n",
    "print(weather_data.head())\n",
    "print('\\nData shape: ', weather_data.shape)"
   ]
  },
  {
   "cell_type": "code",
   "execution_count": 20,
   "metadata": {},
   "outputs": [
    {
     "data": {
      "text/plain": [
       "array([[2., 0., 1.],\n",
       "       [2., 0., 0.],\n",
       "       [0., 0., 1.],\n",
       "       [1., 0., 1.],\n",
       "       [1., 1., 1.],\n",
       "       [1., 1., 0.],\n",
       "       [0., 1., 0.],\n",
       "       [2., 0., 1.],\n",
       "       [2., 1., 1.],\n",
       "       [1., 1., 1.],\n",
       "       [2., 1., 0.],\n",
       "       [0., 0., 0.],\n",
       "       [0., 1., 1.],\n",
       "       [1., 0., 0.]])"
      ]
     },
     "execution_count": 20,
     "metadata": {},
     "output_type": "execute_result"
    }
   ],
   "source": [
    "# Data pre-processing and preparation\n",
    "# Firstly, we need to encode categorical values\n",
    "from sklearn.preprocessing import OrdinalEncoder\n",
    "enc = OrdinalEncoder()\n",
    "coded_data = enc.fit_transform(weather_data)\n",
    "\n",
    "X = coded_data[:, 0:-1]\n",
    "y = coded_data[:, -1]\n",
    "\n",
    "X_train, X_test, y_train, y_test = train_test_split(X, y, random_state=42)\n",
    "X"
   ]
  },
  {
   "cell_type": "code",
   "execution_count": 21,
   "metadata": {},
   "outputs": [
    {
     "data": {
      "text/plain": [
       "MultinomialNB()"
      ]
     },
     "execution_count": 21,
     "metadata": {},
     "output_type": "execute_result"
    }
   ],
   "source": [
    "# Creat and train a model\n",
    "from sklearn.naive_bayes import MultinomialNB\n",
    "clf_mnb = MultinomialNB()\n",
    "clf_mnb.fit(X_train, y_train)"
   ]
  },
  {
   "cell_type": "code",
   "execution_count": 22,
   "metadata": {},
   "outputs": [
    {
     "name": "stdout",
     "output_type": "stream",
     "text": [
      "Accuracy is: 0.7500\n",
      "\n"
     ]
    }
   ],
   "source": [
    "# Evaluate the model\n",
    "y_pred = clf_mnb.predict(X_test)\n",
    "accuracy = accuracy_score(y_test, y_pred)\n",
    "print('Accuracy is: %.4f\\n' % accuracy)"
   ]
  },
  {
   "cell_type": "code",
   "execution_count": 23,
   "metadata": {},
   "outputs": [
    {
     "name": "stdout",
     "output_type": "stream",
     "text": [
      "Estimated probability of classess: \n",
      " [0.4 0.6]\n",
      "Estimated class-conditional probabilities for each feature: \n",
      " [[0.6364 0.1818 0.1818]\n",
      " [0.4118 0.2941 0.2941]]\n"
     ]
    }
   ],
   "source": [
    "# Explore the learned model parameters (probabilities)\n",
    "# Note that the probabilities are in the logorithmic form. Why? The log-sum-exp trick for underflow of probability products\n",
    "print('Estimated probability of classess: \\n', np.e**clf_mnb.class_log_prior_)\n",
    "print('Estimated class-conditional probabilities for each feature: \\n', np.e**clf_mnb.feature_log_prob_)"
   ]
  },
  {
   "cell_type": "markdown",
   "metadata": {},
   "source": [
    "## Task 5\n",
    "Given the training data generated as follows. The number of data instances (6) is small while the demensionality of the data is relatively highly (100)."
   ]
  },
  {
   "cell_type": "code",
   "execution_count": 24,
   "metadata": {},
   "outputs": [],
   "source": [
    "X = np.random.randint(5, size=(6, 100))\n",
    "y = np.array([1, 2, 3, 4, 5, 6])"
   ]
  },
  {
   "cell_type": "markdown",
   "metadata": {},
   "source": [
    "Train a MultinomialNB model, and predict the label of a data X_new = [[1,2,1,0,2,3,0,3,2,1,1,3,3,0,4,2,2,0,0,2,2,3,4,4,4,4,0,3,3,\n",
    "          1,1,1,2,3,1,3,0,2,2,0,4,2,4,3,2,0,1,1,1,2,3,0,0,3,4,3,3,4,\n",
    "          2,1,0,0,0,0,4,1,2,0,0,4,4,0,4,1,3,1,1,1,3,1,1,1,4,3,1,1,3,\n",
    "          2,0,0,0,3,4,1,1,4,3,2,3,4]]:"
   ]
  },
  {
   "cell_type": "code",
   "execution_count": 25,
   "metadata": {},
   "outputs": [
    {
     "name": "stdout",
     "output_type": "stream",
     "text": [
      "[3]\n"
     ]
    }
   ],
   "source": [
    "# [Your code here ...]\n",
    "clf_mnb=MultinomialNB()\n",
    "clf_mnb.fit(X,y)\n",
    "X_new=[[1,2,1,0,2,3,0,3,2,1,1,3,3,0,4,2,2,0,0,2,2,3,4,4,4,4,0,3,3, 1,1,1,2,3,1,3,0,2,2,0,4,2,4,3,2,0,1,1,1,2,3,0,0,3,4,3,3,4, 2,1,0,0,0,0,4,1,2,0,0,4,4,0,4,1,3,1,1,1,3,1,1,1,4,3,1,1,3, 2,0,0,0,3,4,1,1,4,3,2,3,4]]\n",
    "print(clf_mnb.predict(X_new))"
   ]
  },
  {
   "cell_type": "markdown",
   "metadata": {},
   "source": [
    "In our lecture, we discussed that if there is no occurence of some feature values, zero probabilities will appear. To overcome this issue, Laplace correction (smoothing) is proposed, as shown in the follow formula. In the [MultinomialNB](https://scikit-learn.org/stable/modules/generated/sklearn.naive_bayes.MultinomialNB.html#sklearn.naive_bayes.MultinomialNB) implementation, the parameter 'alpha' controls the way we apply smoothing. The default value is 'alpha=1.0'. Please create and train a model with no Laplace smoothing for the above data set. Compare the leaned model parameters (probabilities) with the case 'alpha=1', by checking if there are zero probabilities (note that due to the accuracy issue, zero might be represented as a signficantly small number by the computer).\n",
    "$$p(x_{yi}|y)=\\frac{N_{yi}+\\alpha}{N_y+{\\alpha}n}$$"
   ]
  },
  {
   "cell_type": "code",
   "execution_count": 26,
   "metadata": {},
   "outputs": [
    {
     "name": "stdout",
     "output_type": "stream",
     "text": [
      "[1]\n"
     ]
    }
   ],
   "source": [
    "# [Your code here ...]\n",
    "clf_mnb=MultinomialNB(alpha=0)\n",
    "clf_mnb.fit(X,y)\n",
    "X_new=[[1,2,1,0,2,3,0,3,2,1,1,3,3,0,4,2,2,0,0,2,2,3,4,4,4,4,0,3,3, 1,1,1,2,3,1,3,0,2,2,0,4,2,4,3,2,0,1,1,1,2,3,0,0,3,4,3,3,4, 2,1,0,0,0,0,4,1,2,0,0,4,4,0,4,1,3,1,1,1,3,1,1,1,4,3,1,1,3, 2,0,0,0,3,4,1,1,4,3,2,3,4]]\n",
    "print(clf_mnb.predict(X_new))"
   ]
  },
  {
   "cell_type": "code",
   "execution_count": 27,
   "metadata": {},
   "outputs": [
    {
     "data": {
      "text/plain": [
       "array([0.1667, 0.1667, 0.1667, 0.1667, 0.1667, 0.1667])"
      ]
     },
     "execution_count": 27,
     "metadata": {},
     "output_type": "execute_result"
    }
   ],
   "source": [
    "np.e**clf_mnb.class_log_prior_"
   ]
  },
  {
   "cell_type": "code",
   "execution_count": 28,
   "metadata": {},
   "outputs": [
    {
     "data": {
      "text/plain": [
       "array([[1.7937e-02, 8.9686e-03, 1.7937e-02, 4.4843e-13, 4.4843e-03,\n",
       "        1.7937e-02, 1.7937e-02, 1.7937e-02, 1.7937e-02, 1.7937e-02,\n",
       "        4.4843e-13, 8.9686e-03, 4.4843e-03, 1.7937e-02, 8.9686e-03,\n",
       "        4.4843e-03, 1.7937e-02, 8.9686e-03, 8.9686e-03, 1.7937e-02,\n",
       "        1.3453e-02, 8.9686e-03, 1.3453e-02, 4.4843e-03, 1.3453e-02,\n",
       "        4.4843e-03, 4.4843e-13, 1.7937e-02, 1.3453e-02, 4.4843e-03,\n",
       "        4.4843e-13, 4.4843e-03, 1.7937e-02, 1.3453e-02, 1.3453e-02,\n",
       "        4.4843e-13, 1.3453e-02, 4.4843e-03, 4.4843e-03, 8.9686e-03,\n",
       "        1.3453e-02, 4.4843e-03, 8.9686e-03, 4.4843e-13, 1.3453e-02,\n",
       "        4.4843e-03, 1.3453e-02, 4.4843e-03, 1.3453e-02, 1.3453e-02,\n",
       "        1.3453e-02, 1.3453e-02, 4.4843e-03, 4.4843e-13, 8.9686e-03,\n",
       "        1.3453e-02, 8.9686e-03, 1.7937e-02, 4.4843e-03, 4.4843e-13,\n",
       "        1.3453e-02, 4.4843e-03, 8.9686e-03, 1.7937e-02, 4.4843e-13,\n",
       "        1.3453e-02, 1.3453e-02, 1.3453e-02, 8.9686e-03, 1.7937e-02,\n",
       "        1.7937e-02, 1.3453e-02, 4.4843e-03, 1.7937e-02, 4.4843e-03,\n",
       "        1.7937e-02, 8.9686e-03, 1.7937e-02, 4.4843e-13, 1.3453e-02,\n",
       "        8.9686e-03, 4.4843e-03, 4.4843e-03, 8.9686e-03, 1.3453e-02,\n",
       "        8.9686e-03, 8.9686e-03, 4.4843e-03, 8.9686e-03, 1.7937e-02,\n",
       "        4.4843e-13, 4.4843e-03, 1.3453e-02, 1.7937e-02, 4.4843e-03,\n",
       "        1.7937e-02, 1.7937e-02, 4.4843e-13, 1.3453e-02, 4.4843e-03],\n",
       "       [2.1164e-02, 5.2910e-03, 1.5873e-02, 2.1164e-02, 5.2910e-03,\n",
       "        2.1164e-02, 1.0582e-02, 5.2910e-03, 1.0582e-02, 1.5873e-02,\n",
       "        5.2910e-13, 2.1164e-02, 1.5873e-02, 5.2910e-03, 2.1164e-02,\n",
       "        1.5873e-02, 1.0582e-02, 2.1164e-02, 2.1164e-02, 5.2910e-03,\n",
       "        1.5873e-02, 1.5873e-02, 5.2910e-13, 1.5873e-02, 5.2910e-03,\n",
       "        5.2910e-13, 5.2910e-13, 1.0582e-02, 2.1164e-02, 1.0582e-02,\n",
       "        2.1164e-02, 5.2910e-03, 2.1164e-02, 5.2910e-03, 1.0582e-02,\n",
       "        1.0582e-02, 5.2910e-13, 5.2910e-13, 5.2910e-13, 1.5873e-02,\n",
       "        5.2910e-03, 5.2910e-03, 1.0582e-02, 1.0582e-02, 1.0582e-02,\n",
       "        2.1164e-02, 5.2910e-13, 5.2910e-13, 2.1164e-02, 2.1164e-02,\n",
       "        1.0582e-02, 2.1164e-02, 5.2910e-03, 1.0582e-02, 5.2910e-13,\n",
       "        1.5873e-02, 5.2910e-13, 1.5873e-02, 5.2910e-03, 5.2910e-03,\n",
       "        1.5873e-02, 2.1164e-02, 2.1164e-02, 5.2910e-13, 1.5873e-02,\n",
       "        5.2910e-13, 5.2910e-13, 1.0582e-02, 5.2910e-03, 1.0582e-02,\n",
       "        5.2910e-13, 1.0582e-02, 5.2910e-03, 5.2910e-03, 5.2910e-13,\n",
       "        5.2910e-13, 5.2910e-13, 5.2910e-03, 2.1164e-02, 5.2910e-03,\n",
       "        1.5873e-02, 5.2910e-13, 5.2910e-03, 2.1164e-02, 2.1164e-02,\n",
       "        5.2910e-13, 5.2910e-03, 1.0582e-02, 1.5873e-02, 5.2910e-03,\n",
       "        5.2910e-13, 2.1164e-02, 5.2910e-13, 1.0582e-02, 5.2910e-13,\n",
       "        1.5873e-02, 1.5873e-02, 1.0582e-02, 5.2910e-03, 1.5873e-02],\n",
       "       [5.2632e-03, 5.2632e-03, 5.2632e-03, 1.0526e-02, 1.5789e-02,\n",
       "        2.1053e-02, 5.2632e-13, 1.0526e-02, 1.0526e-02, 5.2632e-03,\n",
       "        1.5789e-02, 1.0526e-02, 5.2632e-03, 5.2632e-03, 2.1053e-02,\n",
       "        2.1053e-02, 1.0526e-02, 1.5789e-02, 5.2632e-03, 1.5789e-02,\n",
       "        5.2632e-03, 5.2632e-03, 2.1053e-02, 5.2632e-03, 1.5789e-02,\n",
       "        5.2632e-03, 2.1053e-02, 5.2632e-13, 1.5789e-02, 1.0526e-02,\n",
       "        2.1053e-02, 1.5789e-02, 5.2632e-03, 1.0526e-02, 5.2632e-03,\n",
       "        5.2632e-03, 5.2632e-13, 1.5789e-02, 1.5789e-02, 1.0526e-02,\n",
       "        2.1053e-02, 1.0526e-02, 5.2632e-03, 2.1053e-02, 2.1053e-02,\n",
       "        5.2632e-03, 5.2632e-03, 1.5789e-02, 1.5789e-02, 5.2632e-03,\n",
       "        1.5789e-02, 1.5789e-02, 5.2632e-13, 5.2632e-03, 1.0526e-02,\n",
       "        5.2632e-03, 5.2632e-03, 1.5789e-02, 5.2632e-03, 2.1053e-02,\n",
       "        1.0526e-02, 1.5789e-02, 5.2632e-13, 1.5789e-02, 5.2632e-03,\n",
       "        5.2632e-13, 2.1053e-02, 2.1053e-02, 1.0526e-02, 1.5789e-02,\n",
       "        5.2632e-13, 5.2632e-13, 5.2632e-13, 1.0526e-02, 1.0526e-02,\n",
       "        5.2632e-13, 5.2632e-03, 5.2632e-13, 2.1053e-02, 5.2632e-13,\n",
       "        1.5789e-02, 1.0526e-02, 1.5789e-02, 5.2632e-13, 5.2632e-03,\n",
       "        5.2632e-03, 2.1053e-02, 1.0526e-02, 5.2632e-03, 1.0526e-02,\n",
       "        1.0526e-02, 2.1053e-02, 5.2632e-03, 5.2632e-13, 5.2632e-13,\n",
       "        5.2632e-03, 1.0526e-02, 1.0526e-02, 2.1053e-02, 5.2632e-13],\n",
       "       [9.9502e-03, 4.9751e-03, 4.9751e-03, 4.9751e-13, 9.9502e-03,\n",
       "        4.9751e-03, 9.9502e-03, 4.9751e-03, 1.4925e-02, 4.9751e-03,\n",
       "        4.9751e-13, 4.9751e-03, 4.9751e-13, 1.4925e-02, 9.9502e-03,\n",
       "        1.9900e-02, 1.4925e-02, 4.9751e-03, 1.4925e-02, 1.4925e-02,\n",
       "        4.9751e-03, 4.9751e-03, 1.9900e-02, 1.4925e-02, 9.9502e-03,\n",
       "        1.9900e-02, 4.9751e-03, 4.9751e-13, 9.9502e-03, 1.4925e-02,\n",
       "        1.4925e-02, 4.9751e-03, 9.9502e-03, 1.4925e-02, 4.9751e-03,\n",
       "        9.9502e-03, 1.9900e-02, 1.4925e-02, 9.9502e-03, 9.9502e-03,\n",
       "        4.9751e-13, 1.4925e-02, 9.9502e-03, 1.9900e-02, 4.9751e-03,\n",
       "        4.9751e-13, 9.9502e-03, 4.9751e-03, 9.9502e-03, 1.9900e-02,\n",
       "        4.9751e-13, 1.9900e-02, 4.9751e-13, 4.9751e-03, 4.9751e-13,\n",
       "        4.9751e-13, 1.4925e-02, 1.4925e-02, 1.9900e-02, 9.9502e-03,\n",
       "        1.4925e-02, 1.4925e-02, 1.4925e-02, 4.9751e-13, 9.9502e-03,\n",
       "        4.9751e-13, 9.9502e-03, 4.9751e-03, 1.9900e-02, 9.9502e-03,\n",
       "        4.9751e-13, 1.9900e-02, 1.4925e-02, 1.9900e-02, 4.9751e-03,\n",
       "        9.9502e-03, 1.4925e-02, 1.9900e-02, 1.4925e-02, 1.9900e-02,\n",
       "        4.9751e-13, 1.9900e-02, 4.9751e-03, 4.9751e-13, 1.9900e-02,\n",
       "        9.9502e-03, 4.9751e-03, 1.4925e-02, 9.9502e-03, 1.9900e-02,\n",
       "        1.4925e-02, 1.9900e-02, 4.9751e-13, 9.9502e-03, 1.9900e-02,\n",
       "        4.9751e-03, 4.9751e-13, 4.9751e-03, 4.9751e-13, 1.4925e-02],\n",
       "       [2.0000e-02, 5.0000e-13, 5.0000e-13, 1.0000e-02, 5.0000e-13,\n",
       "        5.0000e-13, 2.0000e-02, 5.0000e-03, 5.0000e-03, 5.0000e-03,\n",
       "        5.0000e-03, 1.5000e-02, 5.0000e-13, 1.0000e-02, 2.0000e-02,\n",
       "        2.0000e-02, 5.0000e-03, 1.5000e-02, 1.5000e-02, 1.5000e-02,\n",
       "        2.0000e-02, 5.0000e-03, 1.0000e-02, 5.0000e-13, 1.5000e-02,\n",
       "        1.0000e-02, 1.0000e-02, 5.0000e-13, 1.5000e-02, 2.0000e-02,\n",
       "        1.5000e-02, 2.0000e-02, 2.0000e-02, 5.0000e-03, 1.5000e-02,\n",
       "        1.0000e-02, 2.0000e-02, 5.0000e-13, 1.0000e-02, 5.0000e-13,\n",
       "        1.0000e-02, 1.5000e-02, 5.0000e-13, 1.0000e-02, 1.0000e-02,\n",
       "        1.5000e-02, 1.5000e-02, 2.0000e-02, 5.0000e-13, 2.0000e-02,\n",
       "        5.0000e-03, 2.0000e-02, 2.0000e-02, 2.0000e-02, 5.0000e-03,\n",
       "        2.0000e-02, 2.0000e-02, 5.0000e-13, 1.5000e-02, 1.5000e-02,\n",
       "        1.5000e-02, 1.0000e-02, 1.0000e-02, 5.0000e-13, 1.0000e-02,\n",
       "        1.0000e-02, 2.0000e-02, 5.0000e-03, 1.0000e-02, 5.0000e-13,\n",
       "        1.0000e-02, 5.0000e-13, 2.0000e-02, 5.0000e-03, 5.0000e-13,\n",
       "        5.0000e-03, 5.0000e-13, 1.5000e-02, 1.0000e-02, 5.0000e-03,\n",
       "        5.0000e-13, 1.0000e-02, 2.0000e-02, 1.5000e-02, 5.0000e-03,\n",
       "        5.0000e-13, 1.5000e-02, 2.0000e-02, 1.0000e-02, 1.5000e-02,\n",
       "        1.0000e-02, 5.0000e-03, 5.0000e-13, 5.0000e-13, 2.0000e-02,\n",
       "        2.0000e-02, 5.0000e-13, 5.0000e-03, 1.0000e-02, 5.0000e-13],\n",
       "       [5.0000e-03, 5.0000e-13, 5.0000e-13, 5.0000e-13, 1.5000e-02,\n",
       "        1.0000e-02, 2.0000e-02, 1.5000e-02, 1.5000e-02, 1.5000e-02,\n",
       "        1.5000e-02, 1.0000e-02, 1.5000e-02, 5.0000e-13, 1.0000e-02,\n",
       "        1.5000e-02, 1.5000e-02, 2.0000e-02, 1.5000e-02, 1.0000e-02,\n",
       "        1.0000e-02, 1.5000e-02, 5.0000e-03, 1.5000e-02, 5.0000e-03,\n",
       "        5.0000e-03, 5.0000e-13, 1.0000e-02, 2.0000e-02, 1.5000e-02,\n",
       "        1.5000e-02, 2.0000e-02, 5.0000e-03, 2.0000e-02, 5.0000e-13,\n",
       "        1.5000e-02, 5.0000e-03, 1.5000e-02, 1.5000e-02, 2.0000e-02,\n",
       "        2.0000e-02, 5.0000e-13, 2.0000e-02, 5.0000e-03, 5.0000e-13,\n",
       "        1.5000e-02, 5.0000e-03, 1.0000e-02, 5.0000e-03, 1.0000e-02,\n",
       "        5.0000e-13, 5.0000e-03, 1.0000e-02, 1.0000e-02, 1.5000e-02,\n",
       "        5.0000e-03, 1.0000e-02, 5.0000e-13, 5.0000e-03, 5.0000e-03,\n",
       "        1.5000e-02, 2.0000e-02, 2.0000e-02, 5.0000e-03, 5.0000e-03,\n",
       "        5.0000e-13, 1.0000e-02, 1.0000e-02, 5.0000e-03, 5.0000e-03,\n",
       "        1.0000e-02, 1.0000e-02, 1.0000e-02, 2.0000e-02, 1.5000e-02,\n",
       "        2.0000e-02, 5.0000e-03, 1.0000e-02, 1.0000e-02, 1.5000e-02,\n",
       "        1.5000e-02, 5.0000e-03, 1.5000e-02, 5.0000e-03, 5.0000e-03,\n",
       "        5.0000e-13, 5.0000e-13, 2.0000e-02, 5.0000e-13, 5.0000e-03,\n",
       "        1.0000e-02, 1.5000e-02, 5.0000e-13, 1.5000e-02, 5.0000e-03,\n",
       "        5.0000e-13, 2.0000e-02, 5.0000e-13, 2.0000e-02, 2.0000e-02]])"
      ]
     },
     "execution_count": 28,
     "metadata": {},
     "output_type": "execute_result"
    }
   ],
   "source": [
    "np.e**clf_mnb.feature_log_prob_"
   ]
  },
  {
   "cell_type": "markdown",
   "metadata": {},
   "source": [
    "* ### Comparasion on Iris data\n",
    "## Task 6\n",
    "Compare the prediction accuaracy between KNN clasifier (use the optimal K you've identied) and Gaussian Naive Bayes. Use 10-cross validation to report the accuracy mean and standard deviation (Note this is to ensure the comparison is based on robust performace). Which classifidation mdoel is more accurate on Iris data set? Use t-test to show if the difference is statistically significant."
   ]
  },
  {
   "cell_type": "code",
   "execution_count": 29,
   "metadata": {},
   "outputs": [
    {
     "name": "stdout",
     "output_type": "stream",
     "text": [
      "0.9800000000000001 0.04268749491621898\n",
      "0.9533333333333334 0.06699917080747259\n"
     ]
    }
   ],
   "source": [
    "# [Your code here ...]\n",
    "clf_knn=KNeighborsClassifier(n_neighbors=11)\n",
    "clf_gnb=GaussianNB()\n",
    "scores_knn=cross_val_score(clf_knn, iris_data.data, iris_data.target, scoring='accuracy', cv=KFold(n_splits=10, shuffle=True, random_state=142))\n",
    "scores_gnb=cross_val_score(clf_gnb, iris_data.data, iris_data.target, scoring='accuracy', cv=KFold(n_splits=10, shuffle=True, random_state=142))\n",
    "print(scores_knn.mean(), scores_knn.std())\n",
    "print(scores_gnb.mean(), scores_gnb.std())"
   ]
  },
  {
   "cell_type": "code",
   "execution_count": 30,
   "metadata": {},
   "outputs": [
    {
     "name": "stdout",
     "output_type": "stream",
     "text": [
      "1.0070176299560294 0.32727258741072884\n"
     ]
    }
   ],
   "source": [
    "from scipy.stats import ttest_ind\n",
    "t, p=ttest_ind(scores_knn, scores_gnb)\n",
    "print(t,p) "
   ]
  },
  {
   "cell_type": "code",
   "execution_count": null,
   "metadata": {},
   "outputs": [],
   "source": []
  }
 ],
 "metadata": {
  "kernelspec": {
   "display_name": "Python 3",
   "language": "python",
   "name": "python3"
  },
  "language_info": {
   "codemirror_mode": {
    "name": "ipython",
    "version": 3
   },
   "file_extension": ".py",
   "mimetype": "text/x-python",
   "name": "python",
   "nbconvert_exporter": "python",
   "pygments_lexer": "ipython3",
   "version": "3.8.8"
  }
 },
 "nbformat": 4,
 "nbformat_minor": 2
}
